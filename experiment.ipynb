{
 "cells": [
  {
   "cell_type": "code",
   "execution_count": 4,
   "metadata": {},
   "outputs": [
    {
     "name": "stdout",
     "output_type": "stream",
     "text": [
      "0.102266190261\n",
      "0.017682261481\n",
      "0.0142769916853\n",
      "0.0133846897165\n",
      "0.0130264735432\n",
      "0.0128494952389\n",
      "0.0127482705629\n",
      "0.0126815441058\n",
      "0.0126300344164\n",
      "0.0125837540146\n",
      "0.0125376928581\n",
      "0.0124901176444\n",
      "0.0124414768196\n",
      "0.0123933193474\n",
      "0.0123473430957\n",
      "0.0123048182754\n",
      "0.0122664205628\n",
      "0.0122323227578\n",
      "0.0122023710518\n",
      "0.0121762417793\n",
      "0.0121535458934\n",
      "0.0121338868504\n",
      "0.0121168882435\n",
      "0.0121022050999\n",
      "0.012089527387\n",
      "0.0120785800611\n",
      "0.0120691215739\n",
      "0.0120609416258\n",
      "0.0120538585114\n",
      "0.0120477162564\n",
      "0.0120423816966\n",
      "0.0120377416225\n",
      "0.0120337000839\n",
      "0.0120301759176\n",
      "0.012027100532\n",
      "0.0120244159601\n",
      "0.0120220731728\n",
      "0.0120200306351\n",
      "0.0120182530823\n",
      "0.0120167104874\n"
     ]
    },
    {
     "data": {
      "image/png": "[encoded data removed]",
      "text/plain": [
       "<matplotlib.figure.Figure at 0x2d98e03c748>"
      ]
     },
     "metadata": {},
     "output_type": "display_data"
    },
    {
     "name": "stdout",
     "output_type": "stream",
     "text": [
      "[[ 3.87376488  2.99206551  2.97505063 ...,  1.86116036  2.7727124\n",
      "   2.83429707]\n",
      " [ 4.02557178  3.24891211  3.13326656 ...,  1.97755086  2.9414911\n",
      "   2.89469006]\n",
      " [ 3.44871891  2.70931571  2.66219974 ...,  1.67112619  2.48809735\n",
      "   2.5067682 ]\n",
      " ..., \n",
      " [ 4.30896626  3.50631461  3.36239791 ...,  2.12569674  3.16092154\n",
      "   3.08805849]\n",
      " [ 4.4953446   3.97423025  3.60214522 ...,  2.3160897   3.43384931\n",
      "   3.10681221]\n",
      " [ 3.86899891  3.15544772  3.02121092 ...,  1.91087672  2.84125292\n",
      "   2.77015781]]\n"
     ]
    }
   ],
   "source": [
    "import numpy as np\n",
    "import pickle\n",
    "import numpy as np\n",
    "from sklearn.model_selection import train_test_split\n",
    "from sklearn.datasets import load_svmlight_file\n",
    "import time\n",
    "import matplotlib.pyplot as plt\n",
    "\n",
    "def r_file( file_name):\n",
    "    file = open( file_name)\n",
    "    data = file.read()\n",
    "    file.close()\n",
    "    data = np.array( data.split( ))\n",
    "    data = data.reshape( [int(len(data)/4) , 4] )\n",
    "    return data\n",
    "\n",
    "def calculate( matrix , data):\n",
    "    i=0\n",
    "    j=0\n",
    "    for x in range(data.shape[0]):\n",
    "        i=int(data[x][0])-1\n",
    "        j=int(data[x][1])-1\n",
    "        matrix[i][j] = data[x][2]\n",
    "    return matrix\n",
    "\n",
    "def makeMatrix():\n",
    "    r_b = np.zeros(943*1682).reshape(943,1682)\n",
    "    r_t = np.zeros(943*1682).reshape(943,1682)\n",
    "    #这里只用了u1\n",
    "    data1 = r_file('ml-100k/u1.base')\n",
    "    data2 = r_file('ml-100k/u1.test')\n",
    "    calculate(r_b,data1)\n",
    "    calculate(r_t,data2)\n",
    "    return r_b, r_t\n",
    "\n",
    "def matrix_factorization(R_b, R_t, P, Q, K, steps=400, alpha=0.0005, beta=0.02):\n",
    "    Q = Q.T\n",
    "    L_list = []\n",
    "    for step in range(steps):\n",
    "        for i in range(len(R_b)):\n",
    "            for j in range(len(R_b[i])):\n",
    "                if R_b[i][j] > 0:\n",
    "                    e = R_b[i][j] - np.dot(P[i,:],Q[:,j])\n",
    "                    for k in range(K):\n",
    "                        P[i][k] = P[i][k] + (2 * e * Q[k][j] - beta * P[i][k])*alpha \n",
    "                        Q[k][j] = Q[k][j] + (2 * e* P[i][k] - beta * Q[k][j])*alpha \n",
    "        if step%10 == 0:\n",
    "            l = 0\n",
    "            for i in range(len(R_t)):\n",
    "                for j in range(len(R_t[i])): \n",
    "                    if R_t[i][j] > 0:\n",
    "                        l = l + pow(R_t[i][j] - np.dot(P[i,:],Q[:,j]), 2)\n",
    "                        for k in range(K):\n",
    "                            l = l + (beta/2) * (pow(P[i][k],2) + pow(Q[k][j],2))#正则化\n",
    "            l = l/(R_b.shape[0]*R_b.shape[1])\n",
    "            L_list.append(l)\n",
    "            print(l)\n",
    "            if l < 0.001:\n",
    "                break\n",
    "    return P, Q.T, L_list\n",
    "\n",
    "r_b , r_t = makeMatrix()\n",
    "N = len(r_b)\n",
    "M = len(r_b[0])\n",
    "K = 2\n",
    "P = np.random.rand(N,K)\n",
    "Q = np.random.rand(M,K)\n",
    "P1, Q1, L_v = matrix_factorization(r_b, r_t, P, Q, K)\n",
    "\n",
    "plt.xlabel('times')\n",
    "plt.ylabel('loss')\n",
    "time_list=[i for i in range(40)]\n",
    "line1=plt.plot(time_list,np.array(L_v))\n",
    "plt.show()\n",
    "error = 0\n",
    "R1 = np.dot(P1, Q1.T)\n",
    "print(R1)\n",
    "\n"
   ]
  },
  {
   "cell_type": "code",
   "execution_count": null,
   "metadata": {},
   "outputs": [],
   "source": [
    "\n"
   ]
  },
  {
   "cell_type": "code",
   "execution_count": null,
   "metadata": {},
   "outputs": [],
   "source": []
  },
  {
   "cell_type": "code",
   "execution_count": null,
   "metadata": {},
   "outputs": [],
   "source": []
  },
  {
   "cell_type": "code",
   "execution_count": null,
   "metadata": {},
   "outputs": [],
   "source": []
  },
  {
   "cell_type": "code",
   "execution_count": null,
   "metadata": {},
   "outputs": [],
   "source": []
  },
  {
   "cell_type": "code",
   "execution_count": null,
   "metadata": {},
   "outputs": [],
   "source": []
  },
  {
   "cell_type": "code",
   "execution_count": null,
   "metadata": {},
   "outputs": [],
   "source": []
  }
 ],
 "metadata": {
  "kernelspec": {
   "display_name": "Python 3",
   "language": "python",
   "name": "python3"
  },
  "language_info": {
   "codemirror_mode": {
    "name": "ipython",
    "version": 3
   },
   "file_extension": ".py",
   "mimetype": "text/x-python",
   "name": "python",
   "nbconvert_exporter": "python",
   "pygments_lexer": "ipython3",
   "version": "3.5.3"
  }
 },
 "nbformat": 4,
 "nbformat_minor": 2
}
